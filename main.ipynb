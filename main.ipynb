{
 "cells": [
  {
   "cell_type": "code",
   "execution_count": null,
   "metadata": {},
   "outputs": [],
   "source": [
    "import pandas as pd\n",
    "from mylib.nbacheck import grab_mean,grab_median,grab_stdev, histogram_ast, bar_chart_points, load_dataset\n",
    "\n",
    "data1 = \"NBA_Data.csv\"\n",
    "\n",
    "\n",
    "def nba_summary(data):\n",
    "    return data.describe()\n",
    "\n",
    "\n",
    "def g_describe(data):\n",
    "    g = load_dataset(data)\n",
    "    return nba_summary(g)\n",
    "\n",
    "def stat_update(data, col):\n",
    "    df = load_dataset(data)\n",
    "    mean1 = grab_mean(df, col)\n",
    "    median1 = grab_median(df, col)\n",
    "    stdev1 = grab_stdev(df, col)\n",
    "    df1 = pd.DataFrame([mean1,median1,stdev1])\n",
    "    return df1\n",
    "\n",
    "\n",
    "histogram_ast(data1)\n",
    "bar_chart_points(data1)\n",
    "\n",
    "\n",
    "def save_to_md(data):\n",
    "    test = g_describe(data)\n",
    "    test2 = stat_update(data, \"AST\")\n",
    "    mkdown = test.to_markdown()\n",
    "    mkdown2 = test2.to_markdown()\n",
    "    with open(\"nbastats.md\", \"a\", encoding=\"utf-8\") as file:\n",
    "        file.write(\"Describe:\\n\")\n",
    "        file.write(mkdown)\n",
    "        file.write(\"Summarize:\\n\")\n",
    "        file.write(mkdown2)\n",
    "        file.write(\"n\\n\")\n",
    "        file.write(\"![NBA_1](points_by_position1.png)\\n\")\n",
    "        file.write(\"n\\n\")\n",
    "        file.write(\"![NBA_2](assists.png)\\n\")\n",
    "\n",
    "\n",
    "if __name__ == \"__main__\":\n",
    "    save_to_md(data1)"
   ]
  }
 ],
 "metadata": {
  "language_info": {
   "name": "python"
  }
 },
 "nbformat": 4,
 "nbformat_minor": 2
}
